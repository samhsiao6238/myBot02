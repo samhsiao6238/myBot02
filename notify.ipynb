{
 "cells": [
  {
   "cell_type": "code",
   "execution_count": null,
   "metadata": {},
   "outputs": [],
   "source": [
    "\n",
    "# 導入庫\n",
    "import requests\n",
    "# 使用 dotenv 處理敏感資訊\n",
    "import os\n",
    "from dotenv import load_dotenv\n",
    "load_dotenv()\n",
    "\n",
    "# API 及 LineNotify Token\n",
    "WEATHER_API_TOKEN = os.getenv('WEATHER_API_TOKEN')\n",
    "LINE_NOTIFY_TOKEN = os.getenv('LINE_NOTIFY_TOKEN')\n",
    "\n",
    "\n",
    "# 使用 API endpoint 以及授權\n",
    "url = f\"https://opendata.cwa.gov.tw/api/v1/rest/datastore/E-A0016-001?Authorization={WEATHER_API_TOKEN}\"\n",
    "\n",
    "# 從 API 取得資料\n",
    "response = requests.get(url)\n",
    "response"
   ]
  },
  {
   "cell_type": "code",
   "execution_count": null,
   "metadata": {},
   "outputs": [],
   "source": [
    "data_json = response.json()\n",
    "data_json"
   ]
  },
  {
   "cell_type": "code",
   "execution_count": 4,
   "metadata": {},
   "outputs": [
    {
     "name": "stdout",
     "output_type": "stream",
     "text": [
      "200 {\"status\":200,\"message\":\"ok\"}\n"
     ]
    }
   ],
   "source": [
    "# 取出資料\n",
    "earthquakes = data_json[\"records\"][\"Earthquake\"]\n",
    "\n",
    "# Process only the first earthquake data\n",
    "if earthquakes:\n",
    "    # 使用最近一筆資料（第一筆）\n",
    "    earthquake = earthquakes[0]\n",
    "    # 位置\n",
    "    loc = earthquake[\"EarthquakeInfo\"][\"Epicenter\"][\"Location\"]\n",
    "    # 強度\n",
    "    val = earthquake[\"EarthquakeInfo\"][\"EarthquakeMagnitude\"][\"MagnitudeValue\"]\n",
    "    # 深度\n",
    "    dep = earthquake[\"EarthquakeInfo\"][\"FocalDepth\"]\n",
    "    # 時間\n",
    "    eq_time = earthquake[\"EarthquakeInfo\"][\"OriginTime\"]\n",
    "    # 圖片\n",
    "    img = earthquake[\"ReportImageURI\"]\n",
    "    # 組合以上資訊作為訊息\n",
    "    msg = f\"{loc}，芮氏規模 {val} 級，深度 {dep} 公里，發生時間 {eq_time}\"\n",
    "\n",
    "    # LINE Notify token\n",
    "    token = LINE_NOTIFY_TOKEN\n",
    "    # LINE Notify Authorization header\n",
    "    headers = {\"Authorization\": \"Bearer \" + token}\n",
    "    payload = {\n",
    "        # 訊息內容\n",
    "        \"message\": msg,\n",
    "        # 縮圖\n",
    "        \"imageThumbnail\": img,\n",
    "        # 完整圖片\n",
    "        \"imageFullsize\": img,\n",
    "    }\n",
    "\n",
    "    # 發送通知\n",
    "    notify_response = requests.post(\n",
    "        \"https://notify-api.line.me/api/notify\", headers=headers, data=payload\n",
    "    )\n",
    "\n",
    "    # 輸出 code 及內容供查看\n",
    "    print(\n",
    "        notify_response.status_code,\n",
    "        notify_response.text\n",
    "    )\n",
    "\n",
    "else:\n",
    "    # 假如沒有資料\n",
    "    print(\"沒有取得地震資訊\")"
   ]
  }
 ],
 "metadata": {
  "kernelspec": {
   "display_name": "envST",
   "language": "python",
   "name": "python3"
  },
  "language_info": {
   "codemirror_mode": {
    "name": "ipython",
    "version": 3
   },
   "file_extension": ".py",
   "mimetype": "text/x-python",
   "name": "python",
   "nbconvert_exporter": "python",
   "pygments_lexer": "ipython3",
   "version": "3.10.11"
  }
 },
 "nbformat": 4,
 "nbformat_minor": 2
}
